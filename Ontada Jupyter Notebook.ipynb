{
 "cells": [
  {
   "cell_type": "markdown",
   "id": "7c8305b3",
   "metadata": {},
   "source": [
    "# **ONTADA ASSESMENT OVERVIEW** \n",
    "\n",
    "treatments.json contains records of chemotherapeutic treatment for five patients. facts.json contains a list of observations made about one of these patients in the process of assigning a stage grouping to their disease.\n",
    "\n",
    "**1. Treatments question**\n",
    "\n",
    "What kinds of drugs are being administered to these patients? \n",
    "Hint: Consider how you might use third party reference databases to infer, standardize, and classify the information contained in these records\n",
    "\n",
    "**2. Facts question**\n",
    "\n",
    "How would you use an interoperability standard to express these data? \n",
    "Hint: There are many standards for exchanging and storing health information. You may want to consider not only how to record this information using one of those standards, but also to express and interrelate its meaning.\n",
    "\n",
    "**Notes**\n",
    "\n",
    "As with real world data, this fake data is incomplete and messy. The exercise is subjective; there will not be a \"right answer\". We are interested in understanding your thought process; how you use the technologies of your choice to get to your answer; and how well you express those answers.\n",
    "\n",
    "**Submission Process**\n",
    "\n",
    "Please create a private github repository with your submission. Be sure to share all code. For the writeup, HTML (including markdown) is encouraged, and other open formats are welcome."
   ]
  },
  {
   "cell_type": "markdown",
   "id": "eced7a49",
   "metadata": {},
   "source": [
    "# Import Libraries"
   ]
  },
  {
   "cell_type": "code",
   "execution_count": 27,
   "id": "11eef172",
   "metadata": {},
   "outputs": [],
   "source": [
    "# Import libraries\n",
    "import pandas as pd\n",
    "import numpy as np\n",
    "import os\n",
    "import matplotlib.pyplot as plt"
   ]
  },
  {
   "cell_type": "markdown",
   "id": "40e12c3e",
   "metadata": {},
   "source": [
    "# Load Data"
   ]
  },
  {
   "cell_type": "code",
   "execution_count": 28,
   "id": "04133958",
   "metadata": {},
   "outputs": [],
   "source": [
    "df_facts = pd.read_json(r'/Users/jagpreetbatth/Ontada/facts[52].json')\n",
    "df_treatments = pd.read_json(r'/Users/jagpreetbatth/Ontada/treatments[75].json')"
   ]
  },
  {
   "cell_type": "markdown",
   "id": "4e402a6c",
   "metadata": {},
   "source": [
    "# Data Overview & Load Check"
   ]
  },
  {
   "cell_type": "code",
   "execution_count": 29,
   "id": "db70d434",
   "metadata": {},
   "outputs": [
    {
     "data": {
      "text/plain": [
       "<bound method NDFrame.head of    PAT_ID  PAT_VISIT_ID  DIAGNOSIS_ID         DIAGNOSIS_NAME        NAME  \\\n",
       "0      61             1             1  Breast cancer, female    hist_typ   \n",
       "1      61             1             1  Breast cancer, female          er   \n",
       "2      61             1             1  Breast cancer, female  hist_grade   \n",
       "3      61             1             1  Breast cancer, female     her2neu   \n",
       "4      61             6             1  Breast cancer, female    location   \n",
       "5      61             6             1  Breast cancer, female       t_val   \n",
       "6      61             6             1  Breast cancer, female  path_n_val   \n",
       "7      61             6             1  Breast cancer, female       n_val   \n",
       "8      61             6             1  Breast cancer, female       m_val   \n",
       "9      61             1             1  Breast cancer, female          pr   \n",
       "\n",
       "                                               VALUE  \n",
       "0                         Invasive lobular carcinoma  \n",
       "1                                           Positive  \n",
       "2                  3: High combined histologic grade  \n",
       "3                                      FISH negative  \n",
       "4                                       Right breast  \n",
       "5                3: size >50mm in greatest dimension  \n",
       "6  3a: Mets in 10 or more axillary lymph nodes (a...  \n",
       "7                                       Pathologic N  \n",
       "8                           0: No distant metastases  \n",
       "9                                           Positive  >"
      ]
     },
     "execution_count": 29,
     "metadata": {},
     "output_type": "execute_result"
    }
   ],
   "source": [
    "df_facts.head"
   ]
  },
  {
   "cell_type": "code",
   "execution_count": 30,
   "id": "6c880d46",
   "metadata": {},
   "outputs": [
    {
     "data": {
      "text/plain": [
       "<bound method NDFrame.head of      DRUG_ADMIN_ID  PAT_ID  DRUG_TERM_ID  \\\n",
       "0                1      61            61   \n",
       "1                2      61             5   \n",
       "2                3      61            61   \n",
       "3                4      61            61   \n",
       "4                5      61             5   \n",
       "..             ...     ...           ...   \n",
       "225            226       1           171   \n",
       "226            227       1           171   \n",
       "227            228       1           171   \n",
       "228            229       1           171   \n",
       "229            230       1           171   \n",
       "\n",
       "                                              NDDF_GCN    ROUTE    DOSE UNIT  \\\n",
       "0    8815|8815|61483|61483|8819|8819|8817|8817|6412...  IV Push   114.0   mg   \n",
       "1                        8765|8765|8767|8767|8769|8769     IVPB  1130.0   mg   \n",
       "2    8815|8815|61483|61483|8819|8819|8817|8817|6412...  IV Push   114.0   mg   \n",
       "3    8815|8815|61483|61483|8819|8819|8817|8817|6412...  IV Push   114.0   mg   \n",
       "4                        8765|8765|8767|8767|8769|8769     IVPB  1130.0   mg   \n",
       "..                                                 ...      ...     ...  ...   \n",
       "225                                        66838|66838  IV Push     2.6   mg   \n",
       "226                                        66838|66838  IV Push     2.6   mg   \n",
       "227                                        66838|66838  IV Push     2.6   mg   \n",
       "228                                        66838|66838  IV Push     2.6   mg   \n",
       "229                                        66838|66838  IV Push     2.6   mg   \n",
       "\n",
       "     PAT_CARE_PLAN_TREATMENT_ID           VISIT_DATE      TRMT_START_DATE  \\\n",
       "0                             1  1972-10-31 15:38:54  1972-09-20 16:38:54   \n",
       "1                             1  1982-04-05 13:42:56  1982-03-16 13:42:56   \n",
       "2                             1  2016-07-14 16:03:15  2016-07-14 16:03:15   \n",
       "3                             1  2014-12-06 16:09:08  2014-11-16 16:09:08   \n",
       "4                             1  2018-09-10 21:13:17  2018-07-31 21:13:17   \n",
       "..                          ...                  ...                  ...   \n",
       "225                         171  1992-02-25 00:45:19  1990-05-09 23:45:19   \n",
       "226                         171  1999-11-12 22:35:13  1998-01-11 20:35:13   \n",
       "227                         171  2001-11-06 07:00:41  1999-12-29 05:00:41   \n",
       "228                         171  2009-01-27 07:09:33  2007-03-07 05:09:33   \n",
       "229                         171  1988-03-31 02:43:33  1986-05-02 01:43:33   \n",
       "\n",
       "     ... CONVERT_TO_UNIT DRUG_FORMULA_DOSE DRUG_FORMULA_UNIT  \\\n",
       "0    ...              mg              60.0             Mg/M2   \n",
       "1    ...              mg             600.0             Mg/M2   \n",
       "2    ...              mg              60.0             Mg/M2   \n",
       "3    ...              mg              60.0             Mg/M2   \n",
       "4    ...              mg             600.0             Mg/M2   \n",
       "..   ...             ...               ...               ...   \n",
       "225  ...              mg               1.4             Mg/M2   \n",
       "226  ...              mg               1.4             Mg/M2   \n",
       "227  ...              mg               1.4             Mg/M2   \n",
       "228  ...              mg               1.4             Mg/M2   \n",
       "229  ...              mg               1.4             Mg/M2   \n",
       "\n",
       "     PRIMARY_DIAGNOSIS  REG_DRUG_GROUP PLAN_CYL_LENGTH  PLAN_NBR_CYCLES  \\\n",
       "0        Breast Cancer         CTX/DOX              21                4   \n",
       "1        Breast Cancer         CTX/DOX              21                4   \n",
       "2        Breast Cancer         CTX/DOX              21                4   \n",
       "3        Breast Cancer         CTX/DOX              21                4   \n",
       "4        Breast Cancer         CTX/DOX              21                4   \n",
       "..                 ...             ...             ...              ...   \n",
       "225      Breast Cancer           ERIBU              21               33   \n",
       "226      Breast Cancer           ERIBU              21               33   \n",
       "227      Breast Cancer           ERIBU              21               33   \n",
       "228      Breast Cancer           ERIBU              21               33   \n",
       "229      Breast Cancer           ERIBU              21               33   \n",
       "\n",
       "    TOT_CYL_RCVD  LINE_OF_THERAPY REG_TYPE  \n",
       "0              4         Adjuvant        C  \n",
       "1              4         Adjuvant        C  \n",
       "2              4         Adjuvant        C  \n",
       "3              4         Adjuvant        C  \n",
       "4              4         Adjuvant        C  \n",
       "..           ...              ...      ...  \n",
       "225           31         3rd line        C  \n",
       "226           31         3rd line        C  \n",
       "227           31         3rd line        C  \n",
       "228           31         3rd line        C  \n",
       "229           31         3rd line        C  \n",
       "\n",
       "[230 rows x 31 columns]>"
      ]
     },
     "execution_count": 30,
     "metadata": {},
     "output_type": "execute_result"
    }
   ],
   "source": [
    "df_treatments.head"
   ]
  },
  {
   "cell_type": "code",
   "execution_count": 31,
   "id": "5cf25b58",
   "metadata": {},
   "outputs": [
    {
     "data": {
      "text/plain": [
       "(10, 6)"
      ]
     },
     "execution_count": 31,
     "metadata": {},
     "output_type": "execute_result"
    }
   ],
   "source": [
    "df_facts.shape"
   ]
  },
  {
   "cell_type": "code",
   "execution_count": 32,
   "id": "18e8c82a",
   "metadata": {},
   "outputs": [
    {
     "data": {
      "text/plain": [
       "(230, 31)"
      ]
     },
     "execution_count": 32,
     "metadata": {},
     "output_type": "execute_result"
    }
   ],
   "source": [
    "df_treatments.shape"
   ]
  },
  {
   "cell_type": "code",
   "execution_count": 33,
   "id": "d6b172df",
   "metadata": {},
   "outputs": [
    {
     "data": {
      "text/plain": [
       "DRUG_ADMIN_ID                   int64\n",
       "PAT_ID                          int64\n",
       "DRUG_TERM_ID                    int64\n",
       "NDDF_GCN                       object\n",
       "ROUTE                          object\n",
       "DOSE                          float64\n",
       "UNIT                           object\n",
       "PAT_CARE_PLAN_TREATMENT_ID      int64\n",
       "VISIT_DATE                     object\n",
       "TRMT_START_DATE                object\n",
       "TRMT_STOP_DATE                 object\n",
       "ACTTRMT_START_DATE             object\n",
       "ACTTRMT_STOP_DATE              object\n",
       "CYCLE_NO                        int64\n",
       "CYCLE_DAY                       int64\n",
       "DISPENSE_FORM                  object\n",
       "STRENGTH_NUM                    int64\n",
       "STRENGTH_UNIT                  object\n",
       "STRENGTH_DENOM                float64\n",
       "STRENGTH_DENOM_UNIT            object\n",
       "CONVERTED_DOSE                float64\n",
       "CONVERT_TO_UNIT                object\n",
       "DRUG_FORMULA_DOSE             float64\n",
       "DRUG_FORMULA_UNIT              object\n",
       "PRIMARY_DIAGNOSIS              object\n",
       "REG_DRUG_GROUP                 object\n",
       "PLAN_CYL_LENGTH                 int64\n",
       "PLAN_NBR_CYCLES                 int64\n",
       "TOT_CYL_RCVD                    int64\n",
       "LINE_OF_THERAPY                object\n",
       "REG_TYPE                       object\n",
       "dtype: object"
      ]
     },
     "execution_count": 33,
     "metadata": {},
     "output_type": "execute_result"
    }
   ],
   "source": [
    "df_treatments.dtypes"
   ]
  },
  {
   "cell_type": "code",
   "execution_count": 34,
   "id": "13896a6e",
   "metadata": {},
   "outputs": [
    {
     "data": {
      "text/plain": [
       "PAT_ID             int64\n",
       "PAT_VISIT_ID       int64\n",
       "DIAGNOSIS_ID       int64\n",
       "DIAGNOSIS_NAME    object\n",
       "NAME              object\n",
       "VALUE             object\n",
       "dtype: object"
      ]
     },
     "execution_count": 34,
     "metadata": {},
     "output_type": "execute_result"
    }
   ],
   "source": [
    "df_facts.dtypes"
   ]
  },
  {
   "cell_type": "code",
   "execution_count": 35,
   "id": "451e6063",
   "metadata": {},
   "outputs": [
    {
     "data": {
      "text/plain": [
       "<bound method NDFrame.describe of    PAT_ID  PAT_VISIT_ID  DIAGNOSIS_ID         DIAGNOSIS_NAME        NAME  \\\n",
       "0      61             1             1  Breast cancer, female    hist_typ   \n",
       "1      61             1             1  Breast cancer, female          er   \n",
       "2      61             1             1  Breast cancer, female  hist_grade   \n",
       "3      61             1             1  Breast cancer, female     her2neu   \n",
       "4      61             6             1  Breast cancer, female    location   \n",
       "5      61             6             1  Breast cancer, female       t_val   \n",
       "6      61             6             1  Breast cancer, female  path_n_val   \n",
       "7      61             6             1  Breast cancer, female       n_val   \n",
       "8      61             6             1  Breast cancer, female       m_val   \n",
       "9      61             1             1  Breast cancer, female          pr   \n",
       "\n",
       "                                               VALUE  \n",
       "0                         Invasive lobular carcinoma  \n",
       "1                                           Positive  \n",
       "2                  3: High combined histologic grade  \n",
       "3                                      FISH negative  \n",
       "4                                       Right breast  \n",
       "5                3: size >50mm in greatest dimension  \n",
       "6  3a: Mets in 10 or more axillary lymph nodes (a...  \n",
       "7                                       Pathologic N  \n",
       "8                           0: No distant metastases  \n",
       "9                                           Positive  >"
      ]
     },
     "execution_count": 35,
     "metadata": {},
     "output_type": "execute_result"
    }
   ],
   "source": [
    "df_facts.describe"
   ]
  },
  {
   "cell_type": "code",
   "execution_count": 36,
   "id": "1dc4edfc",
   "metadata": {},
   "outputs": [
    {
     "data": {
      "text/plain": [
       "<bound method NDFrame.describe of      DRUG_ADMIN_ID  PAT_ID  DRUG_TERM_ID  \\\n",
       "0                1      61            61   \n",
       "1                2      61             5   \n",
       "2                3      61            61   \n",
       "3                4      61            61   \n",
       "4                5      61             5   \n",
       "..             ...     ...           ...   \n",
       "225            226       1           171   \n",
       "226            227       1           171   \n",
       "227            228       1           171   \n",
       "228            229       1           171   \n",
       "229            230       1           171   \n",
       "\n",
       "                                              NDDF_GCN    ROUTE    DOSE UNIT  \\\n",
       "0    8815|8815|61483|61483|8819|8819|8817|8817|6412...  IV Push   114.0   mg   \n",
       "1                        8765|8765|8767|8767|8769|8769     IVPB  1130.0   mg   \n",
       "2    8815|8815|61483|61483|8819|8819|8817|8817|6412...  IV Push   114.0   mg   \n",
       "3    8815|8815|61483|61483|8819|8819|8817|8817|6412...  IV Push   114.0   mg   \n",
       "4                        8765|8765|8767|8767|8769|8769     IVPB  1130.0   mg   \n",
       "..                                                 ...      ...     ...  ...   \n",
       "225                                        66838|66838  IV Push     2.6   mg   \n",
       "226                                        66838|66838  IV Push     2.6   mg   \n",
       "227                                        66838|66838  IV Push     2.6   mg   \n",
       "228                                        66838|66838  IV Push     2.6   mg   \n",
       "229                                        66838|66838  IV Push     2.6   mg   \n",
       "\n",
       "     PAT_CARE_PLAN_TREATMENT_ID           VISIT_DATE      TRMT_START_DATE  \\\n",
       "0                             1  1972-10-31 15:38:54  1972-09-20 16:38:54   \n",
       "1                             1  1982-04-05 13:42:56  1982-03-16 13:42:56   \n",
       "2                             1  2016-07-14 16:03:15  2016-07-14 16:03:15   \n",
       "3                             1  2014-12-06 16:09:08  2014-11-16 16:09:08   \n",
       "4                             1  2018-09-10 21:13:17  2018-07-31 21:13:17   \n",
       "..                          ...                  ...                  ...   \n",
       "225                         171  1992-02-25 00:45:19  1990-05-09 23:45:19   \n",
       "226                         171  1999-11-12 22:35:13  1998-01-11 20:35:13   \n",
       "227                         171  2001-11-06 07:00:41  1999-12-29 05:00:41   \n",
       "228                         171  2009-01-27 07:09:33  2007-03-07 05:09:33   \n",
       "229                         171  1988-03-31 02:43:33  1986-05-02 01:43:33   \n",
       "\n",
       "     ... CONVERT_TO_UNIT DRUG_FORMULA_DOSE DRUG_FORMULA_UNIT  \\\n",
       "0    ...              mg              60.0             Mg/M2   \n",
       "1    ...              mg             600.0             Mg/M2   \n",
       "2    ...              mg              60.0             Mg/M2   \n",
       "3    ...              mg              60.0             Mg/M2   \n",
       "4    ...              mg             600.0             Mg/M2   \n",
       "..   ...             ...               ...               ...   \n",
       "225  ...              mg               1.4             Mg/M2   \n",
       "226  ...              mg               1.4             Mg/M2   \n",
       "227  ...              mg               1.4             Mg/M2   \n",
       "228  ...              mg               1.4             Mg/M2   \n",
       "229  ...              mg               1.4             Mg/M2   \n",
       "\n",
       "     PRIMARY_DIAGNOSIS  REG_DRUG_GROUP PLAN_CYL_LENGTH  PLAN_NBR_CYCLES  \\\n",
       "0        Breast Cancer         CTX/DOX              21                4   \n",
       "1        Breast Cancer         CTX/DOX              21                4   \n",
       "2        Breast Cancer         CTX/DOX              21                4   \n",
       "3        Breast Cancer         CTX/DOX              21                4   \n",
       "4        Breast Cancer         CTX/DOX              21                4   \n",
       "..                 ...             ...             ...              ...   \n",
       "225      Breast Cancer           ERIBU              21               33   \n",
       "226      Breast Cancer           ERIBU              21               33   \n",
       "227      Breast Cancer           ERIBU              21               33   \n",
       "228      Breast Cancer           ERIBU              21               33   \n",
       "229      Breast Cancer           ERIBU              21               33   \n",
       "\n",
       "    TOT_CYL_RCVD  LINE_OF_THERAPY REG_TYPE  \n",
       "0              4         Adjuvant        C  \n",
       "1              4         Adjuvant        C  \n",
       "2              4         Adjuvant        C  \n",
       "3              4         Adjuvant        C  \n",
       "4              4         Adjuvant        C  \n",
       "..           ...              ...      ...  \n",
       "225           31         3rd line        C  \n",
       "226           31         3rd line        C  \n",
       "227           31         3rd line        C  \n",
       "228           31         3rd line        C  \n",
       "229           31         3rd line        C  \n",
       "\n",
       "[230 rows x 31 columns]>"
      ]
     },
     "execution_count": 36,
     "metadata": {},
     "output_type": "execute_result"
    }
   ],
   "source": [
    "df_treatments.describe"
   ]
  },
  {
   "cell_type": "markdown",
   "id": "9792edcc",
   "metadata": {},
   "source": [
    "# Data Integrity Check\n",
    "Treatments Patient Load = 5\n",
    "Facts Patient Load = 1"
   ]
  },
  {
   "cell_type": "code",
   "execution_count": 37,
   "id": "589f74c9",
   "metadata": {},
   "outputs": [
    {
     "name": "stdout",
     "output_type": "stream",
     "text": [
      "[  1  61 110 147 159]\n",
      "Treatments Patient Load Correct 5 loaded\n",
      "[61]\n",
      "Facts Patient Load Correct 1 loaded\n"
     ]
    }
   ],
   "source": [
    "TreatmentsPT = df_treatments.PAT_ID.unique()\n",
    "TreatmentsPT.sort()\n",
    "print(TreatmentsPT)\n",
    "if(len(TreatmentsPT == 5)):\n",
    "    print(\"Treatments Patient Load Correct \" + str(len(TreatmentsPT)) + \" loaded\")\n",
    "else: \n",
    "    print(\"Treatment Patient Load Incorrect\")\n",
    "\n",
    "\n",
    "FactsPT = df_facts.PAT_ID.unique()\n",
    "FactsPT.sort()\n",
    "print(FactsPT)\n",
    "if(len(FactsPT == 1)):\n",
    "    print(\"Facts Patient Load Correct \" + str(len(FactsPT)) + \" loaded\")\n",
    "else:\n",
    "    print(\"Facts Patient Load Incorrect\")"
   ]
  },
  {
   "cell_type": "markdown",
   "id": "62867d1c",
   "metadata": {},
   "source": [
    "# Q1. Treatments question\n",
    "What kinds of drugs are being administered to these patients? Hint: Consider how you might use third party reference databases to infer, standardize, and classify the information contained in these records.\n",
    "\n",
    "** Note: With my experience in healthcare and various coding standards, LOINC, CPT, ICD-10 and in this case NDDF codes, I will try and implement multiple ways of showing \"kinds of drugs\" given to the sample patient load and alloted time frame.  "
   ]
  },
  {
   "cell_type": "markdown",
   "id": "608c3964",
   "metadata": {},
   "source": [
    "## A. Count of NDDF Codes to show most common drug types (NDDF code lookup via NIH does not bring up data for Codes provided in sample pateint dataset )"
   ]
  },
  {
   "cell_type": "code",
   "execution_count": 43,
   "id": "5383f8fb",
   "metadata": {},
   "outputs": [
    {
     "name": "stdout",
     "output_type": "stream",
     "text": [
      "120\n",
      "[['18764' '11']\n",
      " ['25665' '6']\n",
      " ['25728' '7']\n",
      " ['25729' '7']\n",
      " ['26807' '6']\n",
      " ['36550' '24']\n",
      " ['36745' '24']\n",
      " ['36758' '24']\n",
      " ['36870' '5']\n",
      " ['38450' '4']\n",
      " ['42496' '36']\n",
      " ['44533' '17']\n",
      " ['44534' '17']\n",
      " ['44535' '17']\n",
      " ['44540' '17']\n",
      " ['44541' '17']\n",
      " ['44542' '17']\n",
      " ['46997' '33']\n",
      " ['49872' '6']\n",
      " ['53713' '5']\n",
      " ['59162' '24']\n",
      " ['59163' '24']\n",
      " ['61073' '17']\n",
      " ['61483' '21']\n",
      " ['61484' '21']\n",
      " ['61669' '60']\n",
      " ['61670' '60']\n",
      " ['61671' '60']\n",
      " ['61672' '60']\n",
      " ['61845' '13']\n",
      " ['62173' '12']\n",
      " ['62174' '6']\n",
      " ['62175' '24']\n",
      " ['63305' '6']\n",
      " ['64079' '6']\n",
      " ['64126' '21']\n",
      " ['65188' '7']\n",
      " ['66838' '120']\n",
      " ['67043' '6']\n",
      " ['68084' '7']\n",
      " ['68085' '7']\n",
      " ['68086' '7']\n",
      " ['72990' '24']\n",
      " ['72991' '24']\n",
      " ['73319' '3']\n",
      " ['75249' '36']\n",
      " ['8765' '21']\n",
      " ['8767' '21']\n",
      " ['8769' '21']\n",
      " ['8785' '4']\n",
      " ['8787' '4']\n",
      " ['8788' '4']\n",
      " ['8789' '4']\n",
      " ['8801' '15']\n",
      " ['8812' '13']\n",
      " ['8815' '21']\n",
      " ['8817' '21']\n",
      " ['8818' '21']\n",
      " ['8819' '21']\n",
      " ['8841' '13']]\n"
     ]
    }
   ],
   "source": [
    "NDDFComplete = []\n",
    "\n",
    "NDDFDistinct = df_treatments.NDDF_GCN\n",
    "\n",
    "for nddf in NDDFDistinct:        \n",
    "    NDDFComplete.append(nddf.split(\"|\"))\n",
    "\n",
    "NDDFComplete = np.hstack(NDDFComplete)\n",
    "\n",
    "values, counts = np.unique(NDDFComplete, return_counts=True)\n",
    "\n",
    "arr = np.stack((  values,counts), axis=1)\n",
    "\n",
    "print(np.max(counts))\n",
    "print(arr)"
   ]
  },
  {
   "cell_type": "markdown",
   "id": "629dc7cd",
   "metadata": {},
   "source": [
    "### NOTE: NFFD code 66838 as being the highest number of times a drug is adminstered followed by 61671, 61669 and 61672 at equal amounts in given sample patient data set. "
   ]
  },
  {
   "cell_type": "markdown",
   "id": "ef556830",
   "metadata": {},
   "source": [
    "## B. Oncological Drugs Based Stratification\n",
    "** Note: Based on my clinical experience in Healthcare in knowing both the SQL/Python coding & drugs given in commonly occuring cancers, I will show what drugs are given based on the various drugs listed in the sample patient database."
   ]
  },
  {
   "cell_type": "code",
   "execution_count": 49,
   "id": "e74bd270",
   "metadata": {},
   "outputs": [
    {
     "data": {
      "image/png": "[encoded data removed]",
      "text/plain": [
       "<Figure size 432x288 with 1 Axes>"
      ]
     },
     "metadata": {},
     "output_type": "display_data"
    }
   ],
   "source": [
    "NDDFComplete = []\n",
    "\n",
    "NDDFDistinct = df_treatments.REG_DRUG_GROUP\n",
    "\n",
    "for nddf in NDDFDistinct:\n",
    "    NDDFComplete.append(nddf)\n",
    "\n",
    "NDDFComplete = np.hstack(NDDFComplete)\n",
    "\n",
    "values, counts = np.unique(NDDFComplete, return_counts=True)\n",
    "\n",
    "arr = np.stack((values, counts), axis=1)\n",
    "\n",
    "plt.pie(counts, labels=values, labeldistance=1.15, wedgeprops = { 'linewidth' : 1, 'edgecolor' : 'black' })\n",
    "plt.show()"
   ]
  },
  {
   "cell_type": "markdown",
   "id": "2a7b52c0",
   "metadata": {},
   "source": [
    "### Note: Side effects of these medications also should be studied and reported in different database. \n",
    "## 5-Fluorouracil, (Avastin) Bevacizumab and (Afinitor) Everolimus - Common\n",
    "#### A drug given as an injection to treat cancers of the breast, colon, rectum, stomach, and pancreas and as a cream to treat actinic keratosis (a skin condition that may become cancer) and certain types of basal cell skin cancer.\n",
    "## ERIBU (Cetuximab) -Common\n",
    "#### A drug given as a treatment for advanced bowel cancer and head & neck cancers that start in the mouth and throat.\n"
   ]
  },
  {
   "cell_type": "markdown",
   "id": "17409105",
   "metadata": {},
   "source": [
    "# Q2. Facts question\n",
    "\n",
    "How would you use an interoperability standard to express these data? Hint: There are many standards for exchanging and storing health information. You may want to consider not only how to record this information using one of those standards, but also to express and interrelate its meaning.\n",
    "\n",
    "Here are some issues I have come across while trying to bring about change, function and implementation/integration of FHIR based systems.\n",
    " "
   ]
  },
  {
   "cell_type": "markdown",
   "id": "228dd73e",
   "metadata": {},
   "source": [
    "# Managing inconsistent information across multiple sources\n",
    "\n",
    "#####  Particularly for healthcare IT vendors who service large health networks, inconsistent information across the network is a huge problem. Providers place different pieces of data in multiple, often disparate, places, and health IT departments waste countless hours searching for them, For Example; in my experience of combining EMR data from EPIC and radiological data, including tumor size and spread from PACS, I have noted a radiologist's impression does not text output to EPICS summary section in radiology, applying and inoteroperatbity standard fixed this issue. \n",
    "\n",
    "##### Solution: Adopt a single unified network and interface. Once the groundwork for a uniform EHR network is laid, the process of sharing information is simple. Consider software that can automate the process of pulling data from different silos and help establish a uniform dataset.\n",
    "\n"
   ]
  },
  {
   "cell_type": "markdown",
   "id": "62eda4c3",
   "metadata": {},
   "source": [
    "## Request: Add Diagnosis \" Breast Cancer\" to interoperabilty platform so it can be used in both EPIC and PACS based systems without errror due to mis-match via a FHIR(project)/HL7 v2 format. json validator used if needed to rule our issues in the future. "
   ]
  },
  {
   "cell_type": "code",
   "execution_count": 52,
   "id": "8d401f63",
   "metadata": {},
   "outputs": [
    {
     "data": {
      "text/plain": [
       "{'resourceType': 'Condition',\n",
       " 'id': 'condition-clinical',\n",
       " 'clinicalStatus': {'coding': [{'system': 'http://terminology.hl7.org/CodeSystem/condition-clinical',\n",
       "    'code': 'active',\n",
       "    'display': 'Active',\n",
       "    'definition': 'The subject is currently experiencing the condition or situation, there is evidence of the condition or situation, or considered to be a significant risk.'}]},\n",
       " 'verificationStatus': {'coding': [{'system': 'http://terminology.hl7.org/CodeSystem/condition-ver-status',\n",
       "    'code': 'confirmed',\n",
       "    'display': 'Confirmed',\n",
       "    'definition': 'There is sufficient diagnostic and/or clinical evidence to treat this as a confirmed condition.'}]},\n",
       " 'category': [{'coding': [{'system': 'http://snomed.info/sct',\n",
       "     'code': '55607006',\n",
       "     'display': 'Problem'},\n",
       "    {'system': 'http://terminology.hl7.org/CodeSystem/condition-category',\n",
       "     'code': 'problem-list-item',\n",
       "     'display': 'Problem List Item',\n",
       "     'definition': 'An item on a problem list that can be managed over time and can be expressed by a practitioner (e.g. physician, nurse), patient, or related person.'}]}],\n",
       " 'severity': {'coding': [{'system': 'http://snomed.info/sct',\n",
       "    'code': '371924009',\n",
       "    'display': 'Moderate to severe'}]},\n",
       " 'code': {'coding': [{'system': 'http://snomed.info/sct',\n",
       "    'code': '134405005',\n",
       "    'display': 'Breast Cancer'}]}}"
      ]
     },
     "execution_count": 52,
     "metadata": {},
     "output_type": "execute_result"
    }
   ],
   "source": [
    "{\n",
    "\t\"resourceType\": \"Condition\",\n",
    "\t\"id\": \"condition-clinical\",\n",
    "\t\"clinicalStatus\": {\n",
    "\t\t\"coding\": [{\n",
    "\t\t\t\"system\": \"http://terminology.hl7.org/CodeSystem/condition-clinical\",\n",
    "\t\t\t\"code\": \"active\",\n",
    "\t\t\t\"display\": \"Active\",\n",
    "\t\t\t\"definition\": \"The subject is currently experiencing the condition or situation, there is evidence of the condition or situation, or considered to be a significant risk.\"\n",
    "\t\t}]\n",
    "\t},\n",
    "\t\"verificationStatus\": {\n",
    "\t\t\"coding\": [{\n",
    "\t\t\t\"system\": \"http://terminology.hl7.org/CodeSystem/condition-ver-status\",\n",
    "\t\t\t\"code\": \"confirmed\",\n",
    "\t\t\t\"display\": \"Confirmed\",\n",
    "\t\t\t\"definition\": \"There is sufficient diagnostic and/or clinical evidence to treat this as a confirmed condition.\"\n",
    "\t\t}]\n",
    "\t},\n",
    "\t\"category\": [{\n",
    "\t\t\"coding\": [{\n",
    "\t\t\t\t\"system\": \"http://snomed.info/sct\",\n",
    "\t\t\t\t\"code\": \"55607006\",\n",
    "\t\t\t\t\"display\": \"Problem\"\n",
    "\t\t\t},\n",
    "\t\t\t{\n",
    "\t\t\t\t\"system\": \"http://terminology.hl7.org/CodeSystem/condition-category\",\n",
    "\t\t\t\t\"code\": \"problem-list-item\",\n",
    "\t\t\t\t\"display\": \"Problem List Item\",\n",
    "\t\t\t\t\"definition\": \"An item on a problem list that can be managed over time and can be expressed by a practitioner (e.g. physician, nurse), patient, or related person.\"\n",
    "\t\t\t}\n",
    "\t\t]\n",
    "\t}],\n",
    "\t\"severity\": {\n",
    "\t\t\"coding\": [{\n",
    "\t\t\t\"system\": \"http://snomed.info/sct\",\n",
    "\t\t\t\"code\": \"371924009\",\n",
    "\t\t\t\"display\": \"Moderate to severe\"\n",
    "\t\t}]\n",
    "\t},\n",
    "\t\"code\": {\n",
    "\t\t\"coding\": [{\n",
    "\t\t\t\"system\": \"http://snomed.info/sct\",\n",
    "\t\t\t\"code\": \"134405005\",\n",
    "\t\t\t\"display\": \"Breast Cancer\"\n",
    "\t\t}]\n",
    "\t}\n",
    "}"
   ]
  },
  {
   "cell_type": "markdown",
   "id": "b6a65a32",
   "metadata": {},
   "source": [
    "# Conclusions/Insight\n",
    "### Transfer data analysis in to Power BI including matplotlib based graphs, plots and charts for presentation and dynamic dashboard integration. \n",
    "\n",
    "# Please reach out when ever you have any questions/comments, I am here to help!\n"
   ]
  }
 ],
 "metadata": {
  "kernelspec": {
   "display_name": "Python 3 (ipykernel)",
   "language": "python",
   "name": "python3"
  },
  "language_info": {
   "codemirror_mode": {
    "name": "ipython",
    "version": 3
   },
   "file_extension": ".py",
   "mimetype": "text/x-python",
   "name": "python",
   "nbconvert_exporter": "python",
   "pygments_lexer": "ipython3",
   "version": "3.9.7"
  }
 },
 "nbformat": 4,
 "nbformat_minor": 5
}
